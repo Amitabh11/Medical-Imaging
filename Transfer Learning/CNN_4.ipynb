{
  "nbformat": 4,
  "nbformat_minor": 0,
  "metadata": {
    "colab": {
      "name": "CNN_4.ipynb",
      "provenance": []
    },
    "kernelspec": {
      "name": "python3",
      "display_name": "Python 3"
    },
    "language_info": {
      "name": "python"
    },
    "accelerator": "GPU"
  },
  "cells": [
    {
      "cell_type": "code",
      "metadata": {
        "colab": {
          "base_uri": "https://localhost:8080/"
        },
        "id": "u5Sk-ucGOQAD",
        "outputId": "40f5df61-045e-45a3-a753-e90e8df8adff"
      },
      "source": [
        "from google.colab import drive\n",
        "drive.mount('/content/drive')"
      ],
      "execution_count": null,
      "outputs": [
        {
          "output_type": "stream",
          "text": [
            "Mounted at /content/drive\n"
          ],
          "name": "stdout"
        }
      ]
    },
    {
      "cell_type": "code",
      "metadata": {
        "colab": {
          "base_uri": "https://localhost:8080/",
          "height": 35
        },
        "id": "HevOWE3ZPqXX",
        "outputId": "c6d17520-939b-4793-f2cd-e452a662a8e0"
      },
      "source": [
        "import os\n",
        "proj_path = '/content/drive/MyDrive/CNN'\n",
        "os.chdir(proj_path)\n",
        "os.getcwd()"
      ],
      "execution_count": null,
      "outputs": [
        {
          "output_type": "execute_result",
          "data": {
            "application/vnd.google.colaboratory.intrinsic+json": {
              "type": "string"
            },
            "text/plain": [
              "'/content/drive/.shortcut-targets-by-id/16i3DsmYfkpADi_3joFqjsEGfoPoa_3ol/CNN'"
            ]
          },
          "metadata": {
            "tags": []
          },
          "execution_count": 2
        }
      ]
    },
    {
      "cell_type": "code",
      "metadata": {
        "id": "iJ_MinA9QHDZ",
        "colab": {
          "base_uri": "https://localhost:8080/"
        },
        "outputId": "24e141e4-6b20-4449-ca45-f04e39d3fd6d"
      },
      "source": [
        "ls '/content/drive/MyDrive/CNN/Datasets/'"
      ],
      "execution_count": null,
      "outputs": [
        {
          "output_type": "stream",
          "text": [
            "\u001b[0m\u001b[01;34mtest\u001b[0m/  \u001b[01;34mtrain\u001b[0m/\n"
          ],
          "name": "stdout"
        }
      ]
    },
    {
      "cell_type": "code",
      "metadata": {
        "colab": {
          "base_uri": "https://localhost:8080/"
        },
        "id": "9eF2KKFfhQ8f",
        "outputId": "6c923fc9-9540-4c0c-cdba-1b8d7750ce5e"
      },
      "source": [
        "ls '/content/drive/MyDrive/CNN/'"
      ],
      "execution_count": null,
      "outputs": [
        {
          "output_type": "stream",
          "text": [
            " CNN_AccMin_89p_lr001_BS32.pdf          DOVl_lr001_bs32.csv\n",
            " CNN_AccMin_89p_lr001_BS64.pdf          DOVl_lr001_bs64.csv\n",
            " CNN_AccMin_89p_lr01_BS32.pdf           DOVl_lr01_bs32.csv\n",
            " CNN_Datasets.zip                       DOVl_lr01_bs64.csv\n",
            "'CNN_ver2-2.ipynb - Colaboratory.pdf'   \u001b[0m\u001b[01;34mFinal_Codes\u001b[0m/\n",
            " CNN_ver2.ipynb                         \u001b[01;34mhyperband\u001b[0m/\n",
            "'CNN_ver2.ipynb - Colaboratory.pdf'     KerasTuner_CNN.ipynb\n",
            " CNN_ver3.ipynb                         model_rcat_dog.h5\n",
            " CNN_ver4.ipynb                         model_rcovid.h5\n",
            " CNN_ver5.ipynb                         noDO_lr01_bs32.csv\n",
            " CNN_ver7.ipynb                         noDO_lr01_bs64.csv\n",
            "'Copy of CNN_ver3.ipynb'                \u001b[01;34moutput\u001b[0m/\n",
            "'Copy of covid 19 test.jpg'             \u001b[01;34mResults\u001b[0m/\n",
            " \u001b[01;34mDatasets\u001b[0m/                             \u001b[01;34m'Transfer learning'\u001b[0m/\n"
          ],
          "name": "stdout"
        }
      ]
    },
    {
      "cell_type": "code",
      "metadata": {
        "id": "lK1Fhg_VPtLF",
        "colab": {
          "base_uri": "https://localhost:8080/",
          "height": 775
        },
        "outputId": "494539ac-39d4-45f3-ff98-97c1d8ae284e"
      },
      "source": [
        "from zipfile import ZipFile\n",
        "data_path = '/content/drive/MyDrive/CNN/CNN_Datasets.zip' \n",
        "with ZipFile(data_path, 'r') as f:\n",
        "  f.extractall()"
      ],
      "execution_count": null,
      "outputs": [
        {
          "output_type": "stream",
          "text": [
            "ERROR:root:Internal Python error in the inspect module.\n",
            "Below is the traceback from this internal error.\n",
            "\n"
          ],
          "name": "stderr"
        },
        {
          "output_type": "stream",
          "text": [
            "Traceback (most recent call last):\n",
            "  File \"/usr/local/lib/python3.7/dist-packages/IPython/core/interactiveshell.py\", line 2882, in run_code\n",
            "    exec(code_obj, self.user_global_ns, self.user_ns)\n",
            "  File \"<ipython-input-14-779b304bd914>\", line 4, in <module>\n",
            "    f.extractall()\n",
            "  File \"/usr/lib/python3.7/zipfile.py\", line 1631, in extractall\n",
            "    path = os.getcwd()\n",
            "FileNotFoundError: [Errno 2] No such file or directory\n",
            "\n",
            "During handling of the above exception, another exception occurred:\n",
            "\n",
            "Traceback (most recent call last):\n",
            "  File \"/usr/local/lib/python3.7/dist-packages/IPython/core/interactiveshell.py\", line 1823, in showtraceback\n",
            "    stb = value._render_traceback_()\n",
            "AttributeError: 'FileNotFoundError' object has no attribute '_render_traceback_'\n",
            "\n",
            "During handling of the above exception, another exception occurred:\n",
            "\n",
            "Traceback (most recent call last):\n",
            "  File \"/usr/local/lib/python3.7/dist-packages/IPython/core/ultratb.py\", line 1132, in get_records\n",
            "    return _fixed_getinnerframes(etb, number_of_lines_of_context, tb_offset)\n",
            "  File \"/usr/local/lib/python3.7/dist-packages/IPython/core/ultratb.py\", line 313, in wrapped\n",
            "    return f(*args, **kwargs)\n",
            "  File \"/usr/local/lib/python3.7/dist-packages/IPython/core/ultratb.py\", line 358, in _fixed_getinnerframes\n",
            "    records = fix_frame_records_filenames(inspect.getinnerframes(etb, context))\n",
            "  File \"/usr/lib/python3.7/inspect.py\", line 1502, in getinnerframes\n",
            "    frameinfo = (tb.tb_frame,) + getframeinfo(tb, context)\n",
            "  File \"/usr/lib/python3.7/inspect.py\", line 1460, in getframeinfo\n",
            "    filename = getsourcefile(frame) or getfile(frame)\n",
            "  File \"/usr/lib/python3.7/inspect.py\", line 696, in getsourcefile\n",
            "    if getattr(getmodule(object, filename), '__loader__', None) is not None:\n",
            "  File \"/usr/lib/python3.7/inspect.py\", line 725, in getmodule\n",
            "    file = getabsfile(object, _filename)\n",
            "  File \"/usr/lib/python3.7/inspect.py\", line 709, in getabsfile\n",
            "    return os.path.normcase(os.path.abspath(_filename))\n",
            "  File \"/usr/lib/python3.7/posixpath.py\", line 383, in abspath\n",
            "    cwd = os.getcwd()\n",
            "FileNotFoundError: [Errno 2] No such file or directory\n"
          ],
          "name": "stdout"
        },
        {
          "output_type": "error",
          "ename": "FileNotFoundError",
          "evalue": "ignored",
          "traceback": [
            "\u001b[0;31m---------------------------------------------------------------------------\u001b[0m"
          ]
        }
      ]
    },
    {
      "cell_type": "code",
      "metadata": {
        "id": "3TI3Bky3Rcw_"
      },
      "source": [
        "from tensorflow.compat.v1 import ConfigProto\n",
        "from tensorflow.compat.v1 import InteractiveSession\n",
        "config = ConfigProto()\n",
        "config.gpu_options.per_process_gpu_memory_fraction = 0.5\n",
        "config.gpu_options.allow_growth = True\n",
        "session = InteractiveSession(config=config)"
      ],
      "execution_count": null,
      "outputs": []
    },
    {
      "cell_type": "code",
      "metadata": {
        "id": "xcMjDrMmtj9f"
      },
      "source": [
        "#image sizing\n",
        "IMAGE_SIZE=[224,224,3]\n",
        "train_path='/content/drive/MyDrive/CNN/Datasets/train'\n",
        "valid_path='/content/drive/MyDrive/CNN/Datasets/test'"
      ],
      "execution_count": null,
      "outputs": []
    },
    {
      "cell_type": "code",
      "metadata": {
        "id": "nelXu0f2ty6F"
      },
      "source": [
        "# Convolutional Neural Network\n",
        "# Importing the libraries\n",
        "import tensorflow as tf\n",
        "from tensorflow.keras.preprocessing.image import ImageDataGenerator"
      ],
      "execution_count": null,
      "outputs": []
    },
    {
      "cell_type": "code",
      "metadata": {
        "colab": {
          "base_uri": "https://localhost:8080/"
        },
        "id": "UY7Jvghstqil",
        "outputId": "92479124-06f7-4d9d-eda8-29ebe65fc545"
      },
      "source": [
        "train_datagen = ImageDataGenerator(rescale = 1./255,\n",
        "                                   shear_range = 0.2,\n",
        "                                   zoom_range = 0.2,\n",
        "                                   horizontal_flip = True)\n",
        "training_set = train_datagen.flow_from_directory('/content/drive/MyDrive/CNN/Datasets/train',\n",
        "                                                 target_size = (224, 224),\n",
        "                                                 batch_size = 64,\n",
        "                                                 class_mode = 'categorical')\n",
        "\n",
        "# Preprocessing the Test set\n",
        "test_datagen = ImageDataGenerator(rescale = 1./255)\n",
        "test_set = test_datagen.flow_from_directory('/content/drive/MyDrive/CNN/Datasets/test',\n",
        "                                            target_size = (224, 224),\n",
        "                                            batch_size = 64,\n",
        "                                            class_mode = 'categorical')"
      ],
      "execution_count": null,
      "outputs": [
        {
          "output_type": "stream",
          "text": [
            "Found 5144 images belonging to 3 classes.\n",
            "Found 1288 images belonging to 3 classes.\n"
          ],
          "name": "stdout"
        }
      ]
    },
    {
      "cell_type": "code",
      "metadata": {
        "id": "xYLb3gFotuVk"
      },
      "source": [
        "import pandas as pd\n",
        "import numpy as np\n",
        "import os\n",
        "import PIL\n",
        "import seaborn as sns\n",
        "import pickle\n",
        "from PIL import *\n",
        "import cv2\n",
        "import tensorflow as tf\n",
        "from tensorflow import keras\n",
        "from tensorflow.keras.applications import DenseNet121\n",
        "from tensorflow.keras.models import Model, load_model\n",
        "from tensorflow.keras.optimizers import Adam, SGD\n",
        "from tensorflow.keras.utils import plot_model\n",
        "from tensorflow.keras.callbacks import EarlyStopping, ModelCheckpoint\n",
        "from IPython.display import display\n",
        "from tensorflow.python.keras import *\n",
        "from tensorflow.keras.preprocessing.image import ImageDataGenerator\n",
        "from tensorflow.keras import layers, optimizers\n",
        "from tensorflow.keras.layers import *\n",
        "from tensorflow.keras import backend as K\n",
        "from keras import optimizers\n",
        "import matplotlib.pyplot as plt\n",
        "from sklearn.model_selection import train_test_split\n",
        "from google.colab.patches import cv2_imshow"
      ],
      "execution_count": null,
      "outputs": []
    },
    {
      "cell_type": "code",
      "metadata": {
        "id": "XOMGn5b18b9q"
      },
      "source": [
        "model = Sequential()\n",
        "model.add(Conv2D(32,kernel_size=3,activation='relu',input_shape=(224,224,3)))\n",
        "model.add(MaxPool2D())\n",
        "model.add(Conv2D(64,kernel_size=3,activation='relu',))\n",
        "model.add(MaxPool2D())\n",
        "model.add(Conv2D(128,kernel_size=3,activation='relu'))\n",
        "model.add(MaxPool2D())\n",
        "model.add(Conv2D(128,kernel_size=3,activation='relu'))\n",
        "model.add(MaxPool2D())\n",
        "model.add(Flatten())\n",
        "model.add(Dense(128, activation='relu'))\n",
        "model.add(Dense(3, activation='softmax'))\n",
        "model.compile(optimizer=Adam(0.0005), loss=\"categorical_crossentropy\", metrics=[\"accuracy\"])"
      ],
      "execution_count": null,
      "outputs": []
    },
    {
      "cell_type": "code",
      "metadata": {
        "colab": {
          "base_uri": "https://localhost:8080/"
        },
        "id": "Hsrmq7JW8fIT",
        "outputId": "531e8189-355d-4c24-d443-300067eb8cd0"
      },
      "source": [
        "model.summary()"
      ],
      "execution_count": null,
      "outputs": [
        {
          "output_type": "stream",
          "text": [
            "Model: \"sequential_1\"\n",
            "_________________________________________________________________\n",
            "Layer (type)                 Output Shape              Param #   \n",
            "=================================================================\n",
            "conv2d_4 (Conv2D)            (None, 222, 222, 32)      896       \n",
            "_________________________________________________________________\n",
            "max_pooling2d_4 (MaxPooling2 (None, 111, 111, 32)      0         \n",
            "_________________________________________________________________\n",
            "conv2d_5 (Conv2D)            (None, 109, 109, 64)      18496     \n",
            "_________________________________________________________________\n",
            "max_pooling2d_5 (MaxPooling2 (None, 54, 54, 64)        0         \n",
            "_________________________________________________________________\n",
            "conv2d_6 (Conv2D)            (None, 52, 52, 128)       73856     \n",
            "_________________________________________________________________\n",
            "max_pooling2d_6 (MaxPooling2 (None, 26, 26, 128)       0         \n",
            "_________________________________________________________________\n",
            "conv2d_7 (Conv2D)            (None, 24, 24, 128)       147584    \n",
            "_________________________________________________________________\n",
            "max_pooling2d_7 (MaxPooling2 (None, 12, 12, 128)       0         \n",
            "_________________________________________________________________\n",
            "flatten_1 (Flatten)          (None, 18432)             0         \n",
            "_________________________________________________________________\n",
            "dense_2 (Dense)              (None, 128)               2359424   \n",
            "_________________________________________________________________\n",
            "dense_3 (Dense)              (None, 3)                 387       \n",
            "=================================================================\n",
            "Total params: 2,600,643\n",
            "Trainable params: 2,600,643\n",
            "Non-trainable params: 0\n",
            "_________________________________________________________________\n"
          ],
          "name": "stdout"
        }
      ]
    },
    {
      "cell_type": "code",
      "metadata": {
        "colab": {
          "base_uri": "https://localhost:8080/"
        },
        "id": "W1AGzrdr8h8F",
        "outputId": "a5005a88-6077-4f31-a1b4-2e0c8682fec1"
      },
      "source": [
        "m = model.fit(x = training_set, validation_data = test_set, epochs = 10)"
      ],
      "execution_count": null,
      "outputs": [
        {
          "output_type": "stream",
          "text": [
            "Epoch 1/10\n",
            "81/81 [==============================] - 4647s 57s/step - loss: 1.0424 - accuracy: 0.7702 - val_loss: 0.7033 - val_accuracy: 0.8921\n",
            "Epoch 2/10\n",
            "81/81 [==============================] - 743s 9s/step - loss: 0.7223 - accuracy: 0.8725 - val_loss: 0.5845 - val_accuracy: 0.9239\n",
            "Epoch 3/10\n",
            "81/81 [==============================] - 738s 9s/step - loss: 0.6330 - accuracy: 0.8929 - val_loss: 0.5209 - val_accuracy: 0.9317\n",
            "Epoch 4/10\n",
            "81/81 [==============================] - 749s 9s/step - loss: 0.5628 - accuracy: 0.9082 - val_loss: 0.5059 - val_accuracy: 0.9286\n",
            "Epoch 5/10\n",
            "81/81 [==============================] - 750s 9s/step - loss: 0.5301 - accuracy: 0.9125 - val_loss: 0.4746 - val_accuracy: 0.9340\n",
            "Epoch 6/10\n",
            "81/81 [==============================] - 744s 9s/step - loss: 0.4948 - accuracy: 0.9238 - val_loss: 0.4491 - val_accuracy: 0.9325\n",
            "Epoch 7/10\n",
            "81/81 [==============================] - 764s 9s/step - loss: 0.4727 - accuracy: 0.9234 - val_loss: 0.4812 - val_accuracy: 0.9193\n",
            "Epoch 8/10\n",
            "81/81 [==============================] - 749s 9s/step - loss: 0.4418 - accuracy: 0.9322 - val_loss: 0.4219 - val_accuracy: 0.9340\n",
            "Epoch 9/10\n",
            "81/81 [==============================] - 754s 9s/step - loss: 0.4079 - accuracy: 0.9399 - val_loss: 0.4174 - val_accuracy: 0.9278\n",
            "Epoch 10/10\n",
            "81/81 [==============================] - 743s 9s/step - loss: 0.3869 - accuracy: 0.9397 - val_loss: 0.4052 - val_accuracy: 0.9379\n"
          ],
          "name": "stdout"
        }
      ]
    },
    {
      "cell_type": "code",
      "metadata": {
        "id": "9jqOORnY8lT7"
      },
      "source": [
        ""
      ],
      "execution_count": null,
      "outputs": []
    },
    {
      "cell_type": "code",
      "metadata": {
        "id": "lAe_V9qBEs8G"
      },
      "source": [
        ""
      ],
      "execution_count": null,
      "outputs": []
    },
    {
      "cell_type": "code",
      "metadata": {
        "id": "MD5_o5vSEszQ"
      },
      "source": [
        "model = Sequential()\n",
        "model.add(Conv2D(32,kernel_size=3,activation='relu',input_shape=(224,224,3)))\n",
        "model.add(MaxPool2D())\n",
        "model.add(Conv2D(64,kernel_size=3,activation='relu',))\n",
        "model.add(MaxPool2D())\n",
        "model.add(Conv2D(128,kernel_size=3,activation='relu'))\n",
        "model.add(MaxPool2D())\n",
        "model.add(Conv2D(64,kernel_size=3,activation='relu'))\n",
        "model.add(MaxPool2D(pool_size=5))\n",
        "model.add(Flatten())\n",
        "model.add(Dense(128, activation='relu'))\n",
        "model.add(Dense(3, activation='softmax'))\n",
        "model.compile(optimizer=Adam(0.005), loss=\"categorical_crossentropy\", metrics=[\"accuracy\"])"
      ],
      "execution_count": null,
      "outputs": []
    },
    {
      "cell_type": "code",
      "metadata": {
        "colab": {
          "base_uri": "https://localhost:8080/"
        },
        "id": "QTsvH0FlFCw6",
        "outputId": "83c64169-9543-4289-eb70-de3f9734cb2c"
      },
      "source": [
        "model.summary()"
      ],
      "execution_count": null,
      "outputs": [
        {
          "output_type": "stream",
          "text": [
            "Model: \"sequential_3\"\n",
            "_________________________________________________________________\n",
            "Layer (type)                 Output Shape              Param #   \n",
            "=================================================================\n",
            "conv2d_12 (Conv2D)           (None, 222, 222, 32)      896       \n",
            "_________________________________________________________________\n",
            "max_pooling2d_12 (MaxPooling (None, 111, 111, 32)      0         \n",
            "_________________________________________________________________\n",
            "conv2d_13 (Conv2D)           (None, 109, 109, 64)      18496     \n",
            "_________________________________________________________________\n",
            "max_pooling2d_13 (MaxPooling (None, 54, 54, 64)        0         \n",
            "_________________________________________________________________\n",
            "conv2d_14 (Conv2D)           (None, 52, 52, 128)       73856     \n",
            "_________________________________________________________________\n",
            "max_pooling2d_14 (MaxPooling (None, 26, 26, 128)       0         \n",
            "_________________________________________________________________\n",
            "conv2d_15 (Conv2D)           (None, 24, 24, 64)        73792     \n",
            "_________________________________________________________________\n",
            "max_pooling2d_15 (MaxPooling (None, 4, 4, 64)          0         \n",
            "_________________________________________________________________\n",
            "flatten_3 (Flatten)          (None, 1024)              0         \n",
            "_________________________________________________________________\n",
            "dense_6 (Dense)              (None, 128)               131200    \n",
            "_________________________________________________________________\n",
            "dense_7 (Dense)              (None, 3)                 387       \n",
            "=================================================================\n",
            "Total params: 298,627\n",
            "Trainable params: 298,627\n",
            "Non-trainable params: 0\n",
            "_________________________________________________________________\n"
          ],
          "name": "stdout"
        }
      ]
    },
    {
      "cell_type": "code",
      "metadata": {
        "colab": {
          "base_uri": "https://localhost:8080/"
        },
        "id": "hbIeAQX5FENh",
        "outputId": "bf589b73-94e9-41a1-f638-0a4687a19b4e"
      },
      "source": [
        "m = model.fit(x = training_set, validation_data = test_set, epochs = 10)"
      ],
      "execution_count": null,
      "outputs": [
        {
          "output_type": "stream",
          "text": [
            "Epoch 1/10\n",
            "81/81 [==============================] - 2084s 25s/step - loss: 0.9120 - accuracy: 0.6483 - val_loss: 0.4699 - val_accuracy: 0.8230\n",
            "Epoch 2/10\n",
            "81/81 [==============================] - 182s 2s/step - loss: 0.5120 - accuracy: 0.7877 - val_loss: 0.3228 - val_accuracy: 0.8711\n",
            "Epoch 3/10\n",
            "81/81 [==============================] - 181s 2s/step - loss: 0.3652 - accuracy: 0.8556 - val_loss: 0.3056 - val_accuracy: 0.8804\n",
            "Epoch 4/10\n",
            "81/81 [==============================] - 179s 2s/step - loss: 0.3228 - accuracy: 0.8717 - val_loss: 0.2102 - val_accuracy: 0.9208\n",
            "Epoch 5/10\n",
            "81/81 [==============================] - 179s 2s/step - loss: 0.2906 - accuracy: 0.8863 - val_loss: 0.1970 - val_accuracy: 0.9348\n",
            "Epoch 6/10\n",
            "81/81 [==============================] - 178s 2s/step - loss: 0.2650 - accuracy: 0.9012 - val_loss: 0.2090 - val_accuracy: 0.9239\n",
            "Epoch 7/10\n",
            "81/81 [==============================] - 177s 2s/step - loss: 0.2424 - accuracy: 0.9080 - val_loss: 0.1807 - val_accuracy: 0.9402\n",
            "Epoch 8/10\n",
            "81/81 [==============================] - 177s 2s/step - loss: 0.2449 - accuracy: 0.9040 - val_loss: 0.2043 - val_accuracy: 0.9231\n",
            "Epoch 9/10\n",
            "81/81 [==============================] - 176s 2s/step - loss: 0.2148 - accuracy: 0.9143 - val_loss: 0.1784 - val_accuracy: 0.9317\n",
            "Epoch 10/10\n",
            "81/81 [==============================] - 176s 2s/step - loss: 0.2074 - accuracy: 0.9211 - val_loss: 0.2099 - val_accuracy: 0.9255\n"
          ],
          "name": "stdout"
        }
      ]
    },
    {
      "cell_type": "code",
      "metadata": {
        "colab": {
          "base_uri": "https://localhost:8080/",
          "height": 530
        },
        "id": "EonhzxNzFVrK",
        "outputId": "e73e4c10-3123-407c-a4be-d57214e7c24a"
      },
      "source": [
        "import matplotlib.pyplot as plt\n",
        "plt.figure(figsize = (12,8))\n",
        "plt.subplot(1,2,1)\n",
        "plt.plot(m.history['loss'])\n",
        "plt.plot(m.history['val_loss'])\n",
        "plt.title('model loss')\n",
        "plt.ylabel('loss')\n",
        "plt.xlabel('epoch')\n",
        "plt.legend(['training', 'validation'], loc='best')\n",
        "  \n",
        "plt.subplot(1,2,2)\n",
        "plt.plot(m.history['accuracy'])\n",
        "plt.plot(m.history['val_accuracy'])\n",
        "plt.title('model accuracy')\n",
        "plt.ylabel('accuracy')\n",
        "plt.xlabel('epoch')\n",
        "plt.legend(['training', 'validation'], loc='best')"
      ],
      "execution_count": null,
      "outputs": [
        {
          "output_type": "execute_result",
          "data": {
            "text/plain": [
              "<matplotlib.legend.Legend at 0x7fbe800f15d0>"
            ]
          },
          "metadata": {
            "tags": []
          },
          "execution_count": 18
        },
        {
          "output_type": "display_data",
          "data": {
            "image/png": "[encoded data removed]",
            "text/plain": [
              "<Figure size 864x576 with 2 Axes>"
            ]
          },
          "metadata": {
            "tags": [],
            "needs_background": "light"
          }
        }
      ]
    },
    {
      "cell_type": "code",
      "metadata": {
        "id": "fWGOg4DeUVzT"
      },
      "source": [
        "model = Sequential()\n",
        "model.add(Conv2D(32,kernel_size=3,activation='relu',input_shape=(224,224,3)))\n",
        "model.add(MaxPool2D())\n",
        "model.add(Conv2D(64,kernel_size=3,activation='relu',))\n",
        "model.add(MaxPool2D())\n",
        "model.add(Conv2D(128,kernel_size=3,activation='relu'))\n",
        "model.add(MaxPool2D())\n",
        "model.add(Conv2D(64,kernel_size=3,activation='relu'))\n",
        "model.add(MaxPool2D(pool_size=5))\n",
        "model.add(Flatten())\n",
        "model.add(Dense(128, activation='relu'))\n",
        "model.add(Dense(3, activation='softmax'))\n",
        "model.compile(optimizer=Adam(0.005), loss=\"categorical_crossentropy\", metrics=[\"accuracy\"])"
      ],
      "execution_count": null,
      "outputs": []
    },
    {
      "cell_type": "code",
      "metadata": {
        "colab": {
          "base_uri": "https://localhost:8080/"
        },
        "id": "eSB7bht0UdMg",
        "outputId": "77b2f229-9895-4e91-b346-7722d02b2753"
      },
      "source": [
        "model.summary()"
      ],
      "execution_count": null,
      "outputs": [
        {
          "output_type": "stream",
          "text": [
            "Model: \"sequential_4\"\n",
            "_________________________________________________________________\n",
            "Layer (type)                 Output Shape              Param #   \n",
            "=================================================================\n",
            "conv2d_16 (Conv2D)           (None, 222, 222, 32)      896       \n",
            "_________________________________________________________________\n",
            "max_pooling2d_16 (MaxPooling (None, 111, 111, 32)      0         \n",
            "_________________________________________________________________\n",
            "conv2d_17 (Conv2D)           (None, 109, 109, 64)      18496     \n",
            "_________________________________________________________________\n",
            "max_pooling2d_17 (MaxPooling (None, 54, 54, 64)        0         \n",
            "_________________________________________________________________\n",
            "conv2d_18 (Conv2D)           (None, 52, 52, 128)       73856     \n",
            "_________________________________________________________________\n",
            "max_pooling2d_18 (MaxPooling (None, 26, 26, 128)       0         \n",
            "_________________________________________________________________\n",
            "conv2d_19 (Conv2D)           (None, 24, 24, 64)        73792     \n",
            "_________________________________________________________________\n",
            "max_pooling2d_19 (MaxPooling (None, 4, 4, 64)          0         \n",
            "_________________________________________________________________\n",
            "flatten_4 (Flatten)          (None, 1024)              0         \n",
            "_________________________________________________________________\n",
            "dense_8 (Dense)              (None, 128)               131200    \n",
            "_________________________________________________________________\n",
            "dense_9 (Dense)              (None, 3)                 387       \n",
            "=================================================================\n",
            "Total params: 298,627\n",
            "Trainable params: 298,627\n",
            "Non-trainable params: 0\n",
            "_________________________________________________________________\n"
          ],
          "name": "stdout"
        }
      ]
    },
    {
      "cell_type": "code",
      "metadata": {
        "colab": {
          "base_uri": "https://localhost:8080/"
        },
        "id": "DD_7mBGIUedv",
        "outputId": "7521a14c-b195-4ad5-ccb2-774bc6143954"
      },
      "source": [
        "m = model.fit(x = training_set, validation_data = test_set, epochs = 20)"
      ],
      "execution_count": null,
      "outputs": [
        {
          "output_type": "stream",
          "text": [
            "Epoch 1/20\n",
            "81/81 [==============================] - 183s 2s/step - loss: 0.7153 - accuracy: 0.6998 - val_loss: 0.4617 - val_accuracy: 0.8020\n",
            "Epoch 2/20\n",
            "81/81 [==============================] - 179s 2s/step - loss: 0.4230 - accuracy: 0.8375 - val_loss: 0.3327 - val_accuracy: 0.8657\n",
            "Epoch 3/20\n",
            "81/81 [==============================] - 178s 2s/step - loss: 0.3593 - accuracy: 0.8575 - val_loss: 0.3014 - val_accuracy: 0.8657\n",
            "Epoch 4/20\n",
            "81/81 [==============================] - 177s 2s/step - loss: 0.2890 - accuracy: 0.8923 - val_loss: 0.2300 - val_accuracy: 0.9270\n",
            "Epoch 5/20\n",
            "81/81 [==============================] - 177s 2s/step - loss: 0.2727 - accuracy: 0.8958 - val_loss: 0.2213 - val_accuracy: 0.9099\n",
            "Epoch 6/20\n",
            "81/81 [==============================] - 177s 2s/step - loss: 0.2597 - accuracy: 0.9026 - val_loss: 0.2310 - val_accuracy: 0.9154\n",
            "Epoch 7/20\n",
            "81/81 [==============================] - 177s 2s/step - loss: 0.2496 - accuracy: 0.9137 - val_loss: 0.1843 - val_accuracy: 0.9286\n",
            "Epoch 8/20\n",
            "81/81 [==============================] - 176s 2s/step - loss: 0.2311 - accuracy: 0.9110 - val_loss: 0.1698 - val_accuracy: 0.9449\n",
            "Epoch 9/20\n",
            "81/81 [==============================] - 176s 2s/step - loss: 0.2260 - accuracy: 0.9168 - val_loss: 0.1830 - val_accuracy: 0.9433\n",
            "Epoch 10/20\n",
            "81/81 [==============================] - 176s 2s/step - loss: 0.2125 - accuracy: 0.9176 - val_loss: 0.2216 - val_accuracy: 0.9239\n",
            "Epoch 11/20\n",
            "81/81 [==============================] - 176s 2s/step - loss: 0.2261 - accuracy: 0.9131 - val_loss: 0.1778 - val_accuracy: 0.9394\n",
            "Epoch 12/20\n",
            "81/81 [==============================] - 176s 2s/step - loss: 0.2126 - accuracy: 0.9187 - val_loss: 0.2109 - val_accuracy: 0.9270\n",
            "Epoch 13/20\n",
            "81/81 [==============================] - 176s 2s/step - loss: 0.2173 - accuracy: 0.9191 - val_loss: 0.1599 - val_accuracy: 0.9433\n",
            "Epoch 14/20\n",
            "81/81 [==============================] - 176s 2s/step - loss: 0.2049 - accuracy: 0.9234 - val_loss: 0.2027 - val_accuracy: 0.9193\n",
            "Epoch 15/20\n",
            "81/81 [==============================] - 176s 2s/step - loss: 0.1896 - accuracy: 0.9288 - val_loss: 0.1957 - val_accuracy: 0.9286\n",
            "Epoch 16/20\n",
            "81/81 [==============================] - 176s 2s/step - loss: 0.1903 - accuracy: 0.9290 - val_loss: 0.1857 - val_accuracy: 0.9418\n",
            "Epoch 17/20\n",
            "81/81 [==============================] - 176s 2s/step - loss: 0.1831 - accuracy: 0.9288 - val_loss: 0.1659 - val_accuracy: 0.9441\n",
            "Epoch 18/20\n",
            "81/81 [==============================] - 176s 2s/step - loss: 0.1812 - accuracy: 0.9351 - val_loss: 0.2049 - val_accuracy: 0.9340\n",
            "Epoch 19/20\n",
            "81/81 [==============================] - 176s 2s/step - loss: 0.1943 - accuracy: 0.9265 - val_loss: 0.1771 - val_accuracy: 0.9363\n",
            "Epoch 20/20\n",
            "81/81 [==============================] - 175s 2s/step - loss: 0.1879 - accuracy: 0.9269 - val_loss: 0.1649 - val_accuracy: 0.9418\n"
          ],
          "name": "stdout"
        }
      ]
    },
    {
      "cell_type": "code",
      "metadata": {
        "colab": {
          "base_uri": "https://localhost:8080/",
          "height": 530
        },
        "id": "5sA3r0VlUkbo",
        "outputId": "004a7fac-b77b-4b7c-fbd7-8095b7fb5648"
      },
      "source": [
        "import matplotlib.pyplot as plt\n",
        "plt.figure(figsize = (12,8))\n",
        "plt.subplot(1,2,1)\n",
        "plt.plot(m.history['loss'])\n",
        "plt.plot(m.history['val_loss'])\n",
        "plt.title('model loss')\n",
        "plt.ylabel('loss')\n",
        "plt.xlabel('epoch')\n",
        "plt.legend(['training', 'validation'], loc='best')\n",
        "  \n",
        "plt.subplot(1,2,2)\n",
        "plt.plot(m.history['accuracy'])\n",
        "plt.plot(m.history['val_accuracy'])\n",
        "plt.title('model accuracy')\n",
        "plt.ylabel('accuracy')\n",
        "plt.xlabel('epoch')\n",
        "plt.legend(['training', 'validation'], loc='best')"
      ],
      "execution_count": null,
      "outputs": [
        {
          "output_type": "execute_result",
          "data": {
            "text/plain": [
              "<matplotlib.legend.Legend at 0x7fbe3e04c890>"
            ]
          },
          "metadata": {
            "tags": []
          },
          "execution_count": 22
        },
        {
          "output_type": "display_data",
          "data": {
            "image/png": "[encoded data removed]",
            "text/plain": [
              "<Figure size 864x576 with 2 Axes>"
            ]
          },
          "metadata": {
            "tags": [],
            "needs_background": "light"
          }
        }
      ]
    },
    {
      "cell_type": "code",
      "metadata": {
        "id": "nnPLsa0QkLlx"
      },
      "source": [
        ""
      ],
      "execution_count": null,
      "outputs": []
    }
  ]
}